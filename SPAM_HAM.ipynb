{
  "nbformat": 4,
  "nbformat_minor": 0,
  "metadata": {
    "colab": {
      "name": "SPAM_HAM.ipynb",
      "provenance": [],
      "collapsed_sections": []
    },
    "kernelspec": {
      "name": "python3",
      "display_name": "Python 3"
    },
    "language_info": {
      "name": "python"
    }
  },
  "cells": [
    {
      "cell_type": "code",
      "execution_count": null,
      "metadata": {
        "id": "AVYVGfSOJlfL"
      },
      "outputs": [],
      "source": [
        "import numpy as np\n",
        "import pandas as pd\n",
        "from sklearn.model_selection import train_test_split\n",
        "from sklearn.feature_extraction.text import TfidfVectorizer\n",
        "from sklearn.svm import LinearSVC\n",
        "from sklearn.metrics import accuracy_score"
      ]
    },
    {
      "cell_type": "markdown",
      "source": [
        "## Data Preprocessing"
      ],
      "metadata": {
        "id": "nVA7FXF8KetT"
      }
    },
    {
      "cell_type": "code",
      "source": [
        "#load the dataset to pandas data frame\n",
        "raw_mail_data=pd.read_csv('spamham1.csv')\n",
        "#raw_mail_data['class']=raw_mail_data.Message\n",
        "mail_data=raw_mail_data.where((pd.notnull(raw_mail_data)),\"\")\n",
        "mail_data.shape"
      ],
      "metadata": {
        "id": "GaM_UzytKVqV"
      },
      "execution_count": null,
      "outputs": []
    },
    {
      "cell_type": "code",
      "source": [
        "#labeling spam mails as-->0 and ham mails as-->1\n",
        "mail_data.loc[mail_data['Category']=='spam','Category',]=0\n",
        "mail_data.loc[mail_data['Category']=='ham','Category',]=1"
      ],
      "metadata": {
        "id": "uoduKBu0nROq"
      },
      "execution_count": null,
      "outputs": []
    },
    {
      "cell_type": "code",
      "source": [
        "##separating the data as text and label.\n",
        "x=mail_data['Message']\n",
        "y=mail_data['Category']\n",
        "print(x)\n",
        "print(y)"
      ],
      "metadata": {
        "id": "EaL-8yABmr85"
      },
      "execution_count": null,
      "outputs": []
    },
    {
      "cell_type": "code",
      "source": [
        "##spliting the data for training and testing\n",
        "x_train,x_test,y_train,y_test=train_test_split(x,y,train_size=0.8,test_size=0.2,random_state=3)"
      ],
      "metadata": {
        "id": "kzS8MCHMqhKt"
      },
      "execution_count": null,
      "outputs": []
    },
    {
      "cell_type": "code",
      "source": [
        "from pandas.core.common import random_state\n",
        "from sklearn.feature_extraction.text import TfidfVectorizer\n",
        "##frature extraction\n",
        "feature_extraction=TfidfVectorizer(min_df=1,stop_words='english',lowercase='True')"
      ],
      "metadata": {
        "id": "6q7rAEXSrCEB"
      },
      "execution_count": null,
      "outputs": []
    },
    {
      "cell_type": "code",
      "source": [
        "x_train_features=feature_extraction.fit_transform(x_train)\n",
        "x_test_features=feature_extraction.transform(x_test)\n",
        "y_train=y_train.astype('int')\n",
        "y_test=y_test.astype('int')"
      ],
      "metadata": {
        "id": "-SVzo_eOsqOv"
      },
      "execution_count": null,
      "outputs": []
    },
    {
      "cell_type": "markdown",
      "source": [
        "### Training model --> **support vector machine**"
      ],
      "metadata": {
        "id": "HIRctog4vEPn"
      }
    },
    {
      "cell_type": "code",
      "source": [
        "model=LinearSVC()\n",
        "model.fit(x_train_features,y_train)"
      ],
      "metadata": {
        "id": "kXkdZ9-GvOUs"
      },
      "execution_count": null,
      "outputs": []
    },
    {
      "cell_type": "code",
      "source": [
        "## Evalution of our model on training data\n",
        "train_predict=model.predict(x_train_features)\n",
        "Training_accuracy=accuracy_score(y_train,train_predict)\n",
        "print(\"Training accuracy : \",Training_accuracy)"
      ],
      "metadata": {
        "id": "HjHB2-Z2xVhq"
      },
      "execution_count": null,
      "outputs": []
    },
    {
      "cell_type": "code",
      "source": [
        "## Evalution of our model on testing data\n",
        "test_predict=model.predict(x_test_features)\n",
        "Testing_accuracy=accuracy_score(y_test,test_predict)\n",
        "print(\"Testing accuracy : \",Testing_accuracy)"
      ],
      "metadata": {
        "id": "c78jpGnkyN5K"
      },
      "execution_count": null,
      "outputs": []
    },
    {
      "cell_type": "markdown",
      "source": [
        "**Predicting with a new user input mail**"
      ],
      "metadata": {
        "id": "0pNekUgQzdgf"
      }
    },
    {
      "cell_type": "code",
      "source": [
        "user_mail=[\"Subject: neon retreat ho ho ho , we ' re around to that most wonderful time of the year - - - neon leaders retreat time ! i know that this time of year is extremely hectic , and that it ' s tough to think about anything past the holidays , but life does go on past the week of december 25 through january 1 , and that ' s what i ' d like you to think about for a minute\"]\n",
        "user_mail_features=feature_extraction.transform(user_mail)\n",
        "prediction=model.predict(user_mail_features) ## It will return an array containig of 0 or 1\n",
        "if(prediction[0]==1):\n",
        "  print(\"Ham Mail\")\n",
        "else:\n",
        "  print(\"Spam Mail\")\n"
      ],
      "metadata": {
        "id": "8Sd7GSnrzpe0"
      },
      "execution_count": null,
      "outputs": []
    }
  ]
}